{
 "cells": [
  {
   "cell_type": "markdown",
   "id": "e655e952",
   "metadata": {
    "papermill": {
     "duration": 0.004085,
     "end_time": "2025-07-09T15:06:06.516746",
     "exception": false,
     "start_time": "2025-07-09T15:06:06.512661",
     "status": "completed"
    },
    "tags": []
   },
   "source": [
    "**This notebook is an exercise in the [Pandas](https://www.kaggle.com/learn/pandas) course.  You can reference the tutorial at [this link](https://www.kaggle.com/residentmario/data-types-and-missing-values).**\n",
    "\n",
    "---\n"
   ]
  },
  {
   "cell_type": "markdown",
   "id": "6cc03a2f",
   "metadata": {
    "papermill": {
     "duration": 0.003508,
     "end_time": "2025-07-09T15:06:06.524186",
     "exception": false,
     "start_time": "2025-07-09T15:06:06.520678",
     "status": "completed"
    },
    "tags": []
   },
   "source": [
    "# Introduction\n",
    "\n",
    "Run the following cell to load your data and some utility functions."
   ]
  },
  {
   "cell_type": "code",
   "execution_count": 1,
   "id": "308f6011",
   "metadata": {
    "execution": {
     "iopub.execute_input": "2025-07-09T15:06:06.532884Z",
     "iopub.status.busy": "2025-07-09T15:06:06.532434Z",
     "iopub.status.idle": "2025-07-09T15:06:11.991222Z",
     "shell.execute_reply": "2025-07-09T15:06:11.989529Z"
    },
    "papermill": {
     "duration": 5.465025,
     "end_time": "2025-07-09T15:06:11.992924",
     "exception": false,
     "start_time": "2025-07-09T15:06:06.527899",
     "status": "completed"
    },
    "tags": []
   },
   "outputs": [
    {
     "name": "stdout",
     "output_type": "stream",
     "text": [
      "Setup complete.\n"
     ]
    }
   ],
   "source": [
    "import pandas as pd\n",
    "\n",
    "reviews = pd.read_csv(\"../input/wine-reviews/winemag-data-130k-v2.csv\", index_col=0)\n",
    "\n",
    "from learntools.core import binder; binder.bind(globals())\n",
    "from learntools.pandas.data_types_and_missing_data import *\n",
    "print(\"Setup complete.\")"
   ]
  },
  {
   "cell_type": "markdown",
   "id": "3c7bca78",
   "metadata": {
    "papermill": {
     "duration": 0.004494,
     "end_time": "2025-07-09T15:06:12.002683",
     "exception": false,
     "start_time": "2025-07-09T15:06:11.998189",
     "status": "completed"
    },
    "tags": []
   },
   "source": [
    "# Exercises"
   ]
  },
  {
   "cell_type": "markdown",
   "id": "2643c9b0",
   "metadata": {
    "papermill": {
     "duration": 0.003358,
     "end_time": "2025-07-09T15:06:12.010235",
     "exception": false,
     "start_time": "2025-07-09T15:06:12.006877",
     "status": "completed"
    },
    "tags": []
   },
   "source": [
    "## 1. \n",
    "What is the data type of the `points` column in the dataset?"
   ]
  },
  {
   "cell_type": "code",
   "execution_count": 2,
   "id": "bc07438b",
   "metadata": {
    "execution": {
     "iopub.execute_input": "2025-07-09T15:06:12.018736Z",
     "iopub.status.busy": "2025-07-09T15:06:12.018376Z",
     "iopub.status.idle": "2025-07-09T15:06:12.028999Z",
     "shell.execute_reply": "2025-07-09T15:06:12.027712Z"
    },
    "papermill": {
     "duration": 0.016955,
     "end_time": "2025-07-09T15:06:12.030649",
     "exception": false,
     "start_time": "2025-07-09T15:06:12.013694",
     "status": "completed"
    },
    "tags": []
   },
   "outputs": [
    {
     "name": "stdout",
     "output_type": "stream",
     "text": [
      "int64\n"
     ]
    },
    {
     "data": {
      "application/javascript": [
       "parent.postMessage({\"jupyterEvent\": \"custom.exercise_interaction\", \"data\": {\"outcomeType\": 1, \"valueTowardsCompletion\": 0.25, \"interactionType\": 1, \"questionType\": 1, \"questionId\": \"1_PointsDtype\", \"learnToolsVersion\": \"0.3.5\", \"failureMessage\": \"\", \"exceptionClass\": \"\", \"trace\": \"\"}}, \"*\")"
      ],
      "text/plain": [
       "<IPython.core.display.Javascript object>"
      ]
     },
     "metadata": {},
     "output_type": "display_data"
    },
    {
     "data": {
      "text/markdown": [
       "<span style=\"color:#33cc33\">Correct</span>"
      ],
      "text/plain": [
       "Correct"
      ]
     },
     "metadata": {},
     "output_type": "display_data"
    }
   ],
   "source": [
    "# Your code here\n",
    "dtype = reviews.points.dtype\n",
    "print(dtype)\n",
    "\n",
    "# Check your answer\n",
    "q1.check()"
   ]
  },
  {
   "cell_type": "code",
   "execution_count": 3,
   "id": "c9562edb",
   "metadata": {
    "execution": {
     "iopub.execute_input": "2025-07-09T15:06:12.039632Z",
     "iopub.status.busy": "2025-07-09T15:06:12.039284Z",
     "iopub.status.idle": "2025-07-09T15:06:12.044272Z",
     "shell.execute_reply": "2025-07-09T15:06:12.043268Z"
    },
    "papermill": {
     "duration": 0.011425,
     "end_time": "2025-07-09T15:06:12.046022",
     "exception": false,
     "start_time": "2025-07-09T15:06:12.034597",
     "status": "completed"
    },
    "tags": []
   },
   "outputs": [],
   "source": [
    "#q1.hint()\n",
    "#q1.solution()"
   ]
  },
  {
   "cell_type": "markdown",
   "id": "01fdbbe9",
   "metadata": {
    "papermill": {
     "duration": 0.003859,
     "end_time": "2025-07-09T15:06:12.053824",
     "exception": false,
     "start_time": "2025-07-09T15:06:12.049965",
     "status": "completed"
    },
    "tags": []
   },
   "source": [
    "## 2. \n",
    "Create a Series from entries in the `points` column, but convert the entries to strings. Hint: strings are `str` in native Python."
   ]
  },
  {
   "cell_type": "code",
   "execution_count": 4,
   "id": "eca20e81",
   "metadata": {
    "execution": {
     "iopub.execute_input": "2025-07-09T15:06:12.063974Z",
     "iopub.status.busy": "2025-07-09T15:06:12.063655Z",
     "iopub.status.idle": "2025-07-09T15:06:12.119357Z",
     "shell.execute_reply": "2025-07-09T15:06:12.118362Z"
    },
    "papermill": {
     "duration": 0.063078,
     "end_time": "2025-07-09T15:06:12.121257",
     "exception": false,
     "start_time": "2025-07-09T15:06:12.058179",
     "status": "completed"
    },
    "tags": []
   },
   "outputs": [
    {
     "name": "stdout",
     "output_type": "stream",
     "text": [
      "0         87\n",
      "1         87\n",
      "2         87\n",
      "3         87\n",
      "4         87\n",
      "          ..\n",
      "129966    90\n",
      "129967    90\n",
      "129968    90\n",
      "129969    90\n",
      "129970    90\n",
      "Name: points, Length: 129971, dtype: object\n"
     ]
    },
    {
     "data": {
      "application/javascript": [
       "parent.postMessage({\"jupyterEvent\": \"custom.exercise_interaction\", \"data\": {\"outcomeType\": 1, \"valueTowardsCompletion\": 0.25, \"interactionType\": 1, \"questionType\": 1, \"questionId\": \"2_StrPoints\", \"learnToolsVersion\": \"0.3.5\", \"failureMessage\": \"\", \"exceptionClass\": \"\", \"trace\": \"\"}}, \"*\")"
      ],
      "text/plain": [
       "<IPython.core.display.Javascript object>"
      ]
     },
     "metadata": {},
     "output_type": "display_data"
    },
    {
     "data": {
      "text/markdown": [
       "<span style=\"color:#33cc33\">Correct</span>"
      ],
      "text/plain": [
       "Correct"
      ]
     },
     "metadata": {},
     "output_type": "display_data"
    }
   ],
   "source": [
    "point_strings = reviews.points.astype('str')\n",
    "print(point_strings)\n",
    "\n",
    "# Check your answer\n",
    "q2.check()"
   ]
  },
  {
   "cell_type": "code",
   "execution_count": 5,
   "id": "8aa9f493",
   "metadata": {
    "execution": {
     "iopub.execute_input": "2025-07-09T15:06:12.132269Z",
     "iopub.status.busy": "2025-07-09T15:06:12.131900Z",
     "iopub.status.idle": "2025-07-09T15:06:12.138347Z",
     "shell.execute_reply": "2025-07-09T15:06:12.136950Z"
    },
    "papermill": {
     "duration": 0.013687,
     "end_time": "2025-07-09T15:06:12.140217",
     "exception": false,
     "start_time": "2025-07-09T15:06:12.126530",
     "status": "completed"
    },
    "tags": []
   },
   "outputs": [],
   "source": [
    "#q2.hint()\n",
    "#q2.solution()"
   ]
  },
  {
   "cell_type": "markdown",
   "id": "afa142b4",
   "metadata": {
    "papermill": {
     "duration": 0.004246,
     "end_time": "2025-07-09T15:06:12.149397",
     "exception": false,
     "start_time": "2025-07-09T15:06:12.145151",
     "status": "completed"
    },
    "tags": []
   },
   "source": [
    "## 3.\n",
    "Sometimes the price column is null. How many reviews in the dataset are missing a price?"
   ]
  },
  {
   "cell_type": "code",
   "execution_count": 6,
   "id": "4a6ec297",
   "metadata": {
    "execution": {
     "iopub.execute_input": "2025-07-09T15:06:12.159568Z",
     "iopub.status.busy": "2025-07-09T15:06:12.159013Z",
     "iopub.status.idle": "2025-07-09T15:06:12.171396Z",
     "shell.execute_reply": "2025-07-09T15:06:12.170279Z"
    },
    "papermill": {
     "duration": 0.020054,
     "end_time": "2025-07-09T15:06:12.173543",
     "exception": false,
     "start_time": "2025-07-09T15:06:12.153489",
     "status": "completed"
    },
    "tags": []
   },
   "outputs": [
    {
     "name": "stdout",
     "output_type": "stream",
     "text": [
      "8996\n"
     ]
    },
    {
     "data": {
      "application/javascript": [
       "parent.postMessage({\"jupyterEvent\": \"custom.exercise_interaction\", \"data\": {\"outcomeType\": 1, \"valueTowardsCompletion\": 0.25, \"interactionType\": 1, \"questionType\": 1, \"questionId\": \"3_CountMissingPrices\", \"learnToolsVersion\": \"0.3.5\", \"failureMessage\": \"\", \"exceptionClass\": \"\", \"trace\": \"\"}}, \"*\")"
      ],
      "text/plain": [
       "<IPython.core.display.Javascript object>"
      ]
     },
     "metadata": {},
     "output_type": "display_data"
    },
    {
     "data": {
      "text/markdown": [
       "<span style=\"color:#33cc33\">Correct</span>"
      ],
      "text/plain": [
       "Correct"
      ]
     },
     "metadata": {},
     "output_type": "display_data"
    }
   ],
   "source": [
    "#both solution work: reviews[pd.isnull(reviews.price)] OR reviews[reviews.price.isnull()]\n",
    "#then I could have created another variable to sum the values from n_missing_prices \n",
    "n_missing_prices = reviews['price'].isnull().sum()\n",
    "print(n_missing_prices)\n",
    "\n",
    "# Check your answer\n",
    "q3.check()"
   ]
  },
  {
   "cell_type": "code",
   "execution_count": 7,
   "id": "c25141e3",
   "metadata": {
    "execution": {
     "iopub.execute_input": "2025-07-09T15:06:12.185438Z",
     "iopub.status.busy": "2025-07-09T15:06:12.185157Z",
     "iopub.status.idle": "2025-07-09T15:06:12.191639Z",
     "shell.execute_reply": "2025-07-09T15:06:12.189893Z"
    },
    "papermill": {
     "duration": 0.014755,
     "end_time": "2025-07-09T15:06:12.193864",
     "exception": false,
     "start_time": "2025-07-09T15:06:12.179109",
     "status": "completed"
    },
    "tags": []
   },
   "outputs": [],
   "source": [
    "#q3.hint()\n",
    "#q3.solution()"
   ]
  },
  {
   "cell_type": "markdown",
   "id": "6d34dc5c",
   "metadata": {
    "papermill": {
     "duration": 0.004095,
     "end_time": "2025-07-09T15:06:12.202661",
     "exception": false,
     "start_time": "2025-07-09T15:06:12.198566",
     "status": "completed"
    },
    "tags": []
   },
   "source": [
    "## 4.\n",
    "What are the most common wine-producing regions? Create a Series counting the number of times each value occurs in the `region_1` field. This field is often missing data, so replace missing values with `Unknown`. Sort in descending order.  Your output should look something like this:\n",
    "\n",
    "```\n",
    "Unknown                    21247\n",
    "Napa Valley                 4480\n",
    "                           ...  \n",
    "Bardolino Superiore            1\n",
    "Primitivo del Tarantino        1\n",
    "Name: region_1, Length: 1230, dtype: int64\n",
    "```"
   ]
  },
  {
   "cell_type": "code",
   "execution_count": 8,
   "id": "218e0a73",
   "metadata": {
    "execution": {
     "iopub.execute_input": "2025-07-09T15:06:12.212210Z",
     "iopub.status.busy": "2025-07-09T15:06:12.211917Z",
     "iopub.status.idle": "2025-07-09T15:06:12.265727Z",
     "shell.execute_reply": "2025-07-09T15:06:12.264582Z"
    },
    "papermill": {
     "duration": 0.062507,
     "end_time": "2025-07-09T15:06:12.269232",
     "exception": false,
     "start_time": "2025-07-09T15:06:12.206725",
     "status": "completed"
    },
    "tags": []
   },
   "outputs": [
    {
     "name": "stdout",
     "output_type": "stream",
     "text": [
      "region_1\n",
      "Unknown                 21247\n",
      "Napa Valley              4480\n",
      "Columbia Valley (WA)     4124\n",
      "Russian River Valley     3091\n",
      "California               2629\n",
      "                        ...  \n",
      "Offida Rosso                1\n",
      "Corton Perrières            1\n",
      "Isle St. George             1\n",
      "Geelong                     1\n",
      "Paestum                     1\n",
      "Name: count, Length: 1230, dtype: int64\n"
     ]
    },
    {
     "data": {
      "application/javascript": [
       "parent.postMessage({\"jupyterEvent\": \"custom.exercise_interaction\", \"data\": {\"outcomeType\": 1, \"valueTowardsCompletion\": 0.25, \"interactionType\": 1, \"questionType\": 2, \"questionId\": \"4_ReviewsPerRegion\", \"learnToolsVersion\": \"0.3.5\", \"failureMessage\": \"\", \"exceptionClass\": \"\", \"trace\": \"\"}}, \"*\")"
      ],
      "text/plain": [
       "<IPython.core.display.Javascript object>"
      ]
     },
     "metadata": {},
     "output_type": "display_data"
    },
    {
     "data": {
      "text/markdown": [
       "<span style=\"color:#33cc33\">Correct</span>"
      ],
      "text/plain": [
       "Correct"
      ]
     },
     "metadata": {},
     "output_type": "display_data"
    }
   ],
   "source": [
    "#fillna() doesn't change the original  DataFrame. If i have decided to split the code into 2 line, I'd have had to consider\n",
    "#the  1st line like: solve_missing_values = reviews.region_1.fillna(\"Unknown\")\n",
    "#then the 2nd line: reviews_per_region = solve_missing_values.value_counts().sort_values(ascending = False)\n",
    "#-------------------------------------\n",
    "reviews_per_region = reviews.region_1.fillna(\"Unknown\").value_counts().sort_values(ascending = False)\n",
    "print(reviews_per_region)\n",
    "\n",
    "\n",
    "# Check your answer\n",
    "q4.check()"
   ]
  },
  {
   "cell_type": "code",
   "execution_count": 9,
   "id": "443ea97d",
   "metadata": {
    "execution": {
     "iopub.execute_input": "2025-07-09T15:06:12.280617Z",
     "iopub.status.busy": "2025-07-09T15:06:12.280258Z",
     "iopub.status.idle": "2025-07-09T15:06:12.290350Z",
     "shell.execute_reply": "2025-07-09T15:06:12.289583Z"
    },
    "papermill": {
     "duration": 0.017716,
     "end_time": "2025-07-09T15:06:12.291862",
     "exception": false,
     "start_time": "2025-07-09T15:06:12.274146",
     "status": "completed"
    },
    "tags": []
   },
   "outputs": [
    {
     "data": {
      "application/javascript": [
       "parent.postMessage({\"jupyterEvent\": \"custom.exercise_interaction\", \"data\": {\"interactionType\": 2, \"questionType\": 2, \"questionId\": \"4_ReviewsPerRegion\", \"learnToolsVersion\": \"0.3.5\", \"valueTowardsCompletion\": 0.0, \"failureMessage\": \"\", \"exceptionClass\": \"\", \"trace\": \"\", \"outcomeType\": 4}}, \"*\")"
      ],
      "text/plain": [
       "<IPython.core.display.Javascript object>"
      ]
     },
     "metadata": {},
     "output_type": "display_data"
    },
    {
     "data": {
      "text/markdown": [
       "<span style=\"color:#3366cc\">Hint:</span> Use `fillna()`, `value_counts()`, and `sort_values()`."
      ],
      "text/plain": [
       "Hint: Use `fillna()`, `value_counts()`, and `sort_values()`."
      ]
     },
     "metadata": {},
     "output_type": "display_data"
    },
    {
     "data": {
      "application/javascript": [
       "parent.postMessage({\"jupyterEvent\": \"custom.exercise_interaction\", \"data\": {\"interactionType\": 3, \"questionType\": 2, \"questionId\": \"4_ReviewsPerRegion\", \"learnToolsVersion\": \"0.3.5\", \"valueTowardsCompletion\": 0.0, \"failureMessage\": \"\", \"exceptionClass\": \"\", \"trace\": \"\", \"outcomeType\": 4}}, \"*\")"
      ],
      "text/plain": [
       "<IPython.core.display.Javascript object>"
      ]
     },
     "metadata": {},
     "output_type": "display_data"
    },
    {
     "data": {
      "text/markdown": [
       "<span style=\"color:#33cc99\">Solution:</span> \n",
       "```python\n",
       "reviews_per_region = reviews.region_1.fillna('Unknown').value_counts().sort_values(ascending=False)\n",
       "```"
      ],
      "text/plain": [
       "Solution: \n",
       "```python\n",
       "reviews_per_region = reviews.region_1.fillna('Unknown').value_counts().sort_values(ascending=False)\n",
       "```"
      ]
     },
     "metadata": {},
     "output_type": "display_data"
    }
   ],
   "source": [
    "q4.hint()\n",
    "q4.solution()"
   ]
  },
  {
   "cell_type": "markdown",
   "id": "05c68a9a",
   "metadata": {
    "papermill": {
     "duration": 0.004407,
     "end_time": "2025-07-09T15:06:12.301059",
     "exception": false,
     "start_time": "2025-07-09T15:06:12.296652",
     "status": "completed"
    },
    "tags": []
   },
   "source": [
    "# Keep going\n",
    "\n",
    "Move on to **[renaming and combining](https://www.kaggle.com/residentmario/renaming-and-combining)**."
   ]
  },
  {
   "cell_type": "markdown",
   "id": "121910a3",
   "metadata": {
    "papermill": {
     "duration": 0.004541,
     "end_time": "2025-07-09T15:06:12.310194",
     "exception": false,
     "start_time": "2025-07-09T15:06:12.305653",
     "status": "completed"
    },
    "tags": []
   },
   "source": [
    "---\n",
    "\n",
    "\n",
    "\n",
    "\n",
    "*Have questions or comments? Visit the [course discussion forum](https://www.kaggle.com/learn/pandas/discussion) to chat with other learners.*"
   ]
  }
 ],
 "metadata": {
  "kaggle": {
   "accelerator": "none",
   "dataSources": [
    {
     "datasetId": 655,
     "sourceId": 1252,
     "sourceType": "datasetVersion"
    },
    {
     "datasetId": 2321,
     "sourceId": 3919,
     "sourceType": "datasetVersion"
    },
    {
     "datasetId": 2894,
     "sourceId": 4877,
     "sourceType": "datasetVersion"
    },
    {
     "datasetId": 3491,
     "sourceId": 5624,
     "sourceType": "datasetVersion"
    },
    {
     "datasetId": 1442,
     "sourceId": 8172,
     "sourceType": "datasetVersion"
    },
    {
     "datasetId": 9366,
     "sourceId": 13206,
     "sourceType": "datasetVersion"
    },
    {
     "datasetId": 179555,
     "sourceId": 403916,
     "sourceType": "datasetVersion"
    },
    {
     "datasetId": 4549,
     "sourceId": 466349,
     "sourceType": "datasetVersion"
    },
    {
     "datasetId": 2478,
     "sourceId": 1151655,
     "sourceType": "datasetVersion"
    },
    {
     "datasetId": 10128,
     "sourceId": 5438389,
     "sourceType": "datasetVersion"
    }
   ],
   "isGpuEnabled": false,
   "isInternetEnabled": false,
   "language": "python",
   "sourceType": "notebook"
  },
  "kernelspec": {
   "display_name": "Python 3",
   "language": "python",
   "name": "python3"
  },
  "language_info": {
   "codemirror_mode": {
    "name": "ipython",
    "version": 3
   },
   "file_extension": ".py",
   "mimetype": "text/x-python",
   "name": "python",
   "nbconvert_exporter": "python",
   "pygments_lexer": "ipython3",
   "version": "3.11.13"
  },
  "papermill": {
   "default_parameters": {},
   "duration": 11.897526,
   "end_time": "2025-07-09T15:06:12.936459",
   "environment_variables": {},
   "exception": null,
   "input_path": "__notebook__.ipynb",
   "output_path": "__notebook__.ipynb",
   "parameters": {},
   "start_time": "2025-07-09T15:06:01.038933",
   "version": "2.6.0"
  }
 },
 "nbformat": 4,
 "nbformat_minor": 5
}
