{
 "cells": [
  {
   "cell_type": "markdown",
   "id": "7ec797af",
   "metadata": {
    "papermill": {
     "duration": 0.004902,
     "end_time": "2025-07-09T15:10:06.786124",
     "exception": false,
     "start_time": "2025-07-09T15:10:06.781222",
     "status": "completed"
    },
    "tags": []
   },
   "source": [
    "**This notebook is an exercise in the [Pandas](https://www.kaggle.com/learn/pandas) course.  You can reference the tutorial at [this link](https://www.kaggle.com/residentmario/renaming-and-combining).**\n",
    "\n",
    "---\n"
   ]
  },
  {
   "cell_type": "markdown",
   "id": "568adb08",
   "metadata": {
    "papermill": {
     "duration": 0.004289,
     "end_time": "2025-07-09T15:10:06.794163",
     "exception": false,
     "start_time": "2025-07-09T15:10:06.789874",
     "status": "completed"
    },
    "tags": []
   },
   "source": [
    "# Introduction\n",
    "\n",
    "Run the following cell to load your data and some utility functions."
   ]
  },
  {
   "cell_type": "code",
   "execution_count": 1,
   "id": "877daa0a",
   "metadata": {
    "execution": {
     "iopub.execute_input": "2025-07-09T15:10:06.804397Z",
     "iopub.status.busy": "2025-07-09T15:10:06.804088Z",
     "iopub.status.idle": "2025-07-09T15:10:12.905502Z",
     "shell.execute_reply": "2025-07-09T15:10:12.904370Z"
    },
    "papermill": {
     "duration": 6.107813,
     "end_time": "2025-07-09T15:10:12.907053",
     "exception": false,
     "start_time": "2025-07-09T15:10:06.799240",
     "status": "completed"
    },
    "tags": []
   },
   "outputs": [
    {
     "name": "stdout",
     "output_type": "stream",
     "text": [
      "Setup complete.\n"
     ]
    }
   ],
   "source": [
    "import pandas as pd\n",
    "\n",
    "reviews = pd.read_csv(\"../input/wine-reviews/winemag-data-130k-v2.csv\", index_col=0)\n",
    "\n",
    "from learntools.core import binder; binder.bind(globals())\n",
    "from learntools.pandas.renaming_and_combining import *\n",
    "print(\"Setup complete.\")"
   ]
  },
  {
   "cell_type": "markdown",
   "id": "1204364a",
   "metadata": {
    "papermill": {
     "duration": 0.00366,
     "end_time": "2025-07-09T15:10:12.914520",
     "exception": false,
     "start_time": "2025-07-09T15:10:12.910860",
     "status": "completed"
    },
    "tags": []
   },
   "source": [
    "# Exercises\n",
    "\n",
    "View the first several lines of your data by running the cell below:"
   ]
  },
  {
   "cell_type": "code",
   "execution_count": 2,
   "id": "9066c370",
   "metadata": {
    "execution": {
     "iopub.execute_input": "2025-07-09T15:10:12.922614Z",
     "iopub.status.busy": "2025-07-09T15:10:12.922309Z",
     "iopub.status.idle": "2025-07-09T15:10:12.948119Z",
     "shell.execute_reply": "2025-07-09T15:10:12.946912Z"
    },
    "papermill": {
     "duration": 0.031736,
     "end_time": "2025-07-09T15:10:12.949655",
     "exception": false,
     "start_time": "2025-07-09T15:10:12.917919",
     "status": "completed"
    },
    "tags": []
   },
   "outputs": [
    {
     "name": "stderr",
     "output_type": "stream",
     "text": [
      "/usr/local/lib/python3.11/dist-packages/pandas/io/formats/format.py:1458: RuntimeWarning: invalid value encountered in greater\n",
      "  has_large_values = (abs_vals > 1e6).any()\n",
      "/usr/local/lib/python3.11/dist-packages/pandas/io/formats/format.py:1459: RuntimeWarning: invalid value encountered in less\n",
      "  has_small_values = ((abs_vals < 10 ** (-self.digits)) & (abs_vals > 0)).any()\n",
      "/usr/local/lib/python3.11/dist-packages/pandas/io/formats/format.py:1459: RuntimeWarning: invalid value encountered in greater\n",
      "  has_small_values = ((abs_vals < 10 ** (-self.digits)) & (abs_vals > 0)).any()\n"
     ]
    },
    {
     "data": {
      "text/html": [
       "<div>\n",
       "<style scoped>\n",
       "    .dataframe tbody tr th:only-of-type {\n",
       "        vertical-align: middle;\n",
       "    }\n",
       "\n",
       "    .dataframe tbody tr th {\n",
       "        vertical-align: top;\n",
       "    }\n",
       "\n",
       "    .dataframe thead th {\n",
       "        text-align: right;\n",
       "    }\n",
       "</style>\n",
       "<table border=\"1\" class=\"dataframe\">\n",
       "  <thead>\n",
       "    <tr style=\"text-align: right;\">\n",
       "      <th></th>\n",
       "      <th>country</th>\n",
       "      <th>description</th>\n",
       "      <th>designation</th>\n",
       "      <th>points</th>\n",
       "      <th>price</th>\n",
       "      <th>province</th>\n",
       "      <th>region_1</th>\n",
       "      <th>region_2</th>\n",
       "      <th>taster_name</th>\n",
       "      <th>taster_twitter_handle</th>\n",
       "      <th>title</th>\n",
       "      <th>variety</th>\n",
       "      <th>winery</th>\n",
       "    </tr>\n",
       "  </thead>\n",
       "  <tbody>\n",
       "    <tr>\n",
       "      <th>0</th>\n",
       "      <td>Italy</td>\n",
       "      <td>Aromas include tropical fruit, broom, brimston...</td>\n",
       "      <td>Vulkà Bianco</td>\n",
       "      <td>87</td>\n",
       "      <td>NaN</td>\n",
       "      <td>Sicily &amp; Sardinia</td>\n",
       "      <td>Etna</td>\n",
       "      <td>NaN</td>\n",
       "      <td>Kerin O’Keefe</td>\n",
       "      <td>@kerinokeefe</td>\n",
       "      <td>Nicosia 2013 Vulkà Bianco  (Etna)</td>\n",
       "      <td>White Blend</td>\n",
       "      <td>Nicosia</td>\n",
       "    </tr>\n",
       "    <tr>\n",
       "      <th>1</th>\n",
       "      <td>Portugal</td>\n",
       "      <td>This is ripe and fruity, a wine that is smooth...</td>\n",
       "      <td>Avidagos</td>\n",
       "      <td>87</td>\n",
       "      <td>15.0</td>\n",
       "      <td>Douro</td>\n",
       "      <td>NaN</td>\n",
       "      <td>NaN</td>\n",
       "      <td>Roger Voss</td>\n",
       "      <td>@vossroger</td>\n",
       "      <td>Quinta dos Avidagos 2011 Avidagos Red (Douro)</td>\n",
       "      <td>Portuguese Red</td>\n",
       "      <td>Quinta dos Avidagos</td>\n",
       "    </tr>\n",
       "    <tr>\n",
       "      <th>2</th>\n",
       "      <td>US</td>\n",
       "      <td>Tart and snappy, the flavors of lime flesh and...</td>\n",
       "      <td>NaN</td>\n",
       "      <td>87</td>\n",
       "      <td>14.0</td>\n",
       "      <td>Oregon</td>\n",
       "      <td>Willamette Valley</td>\n",
       "      <td>Willamette Valley</td>\n",
       "      <td>Paul Gregutt</td>\n",
       "      <td>@paulgwine</td>\n",
       "      <td>Rainstorm 2013 Pinot Gris (Willamette Valley)</td>\n",
       "      <td>Pinot Gris</td>\n",
       "      <td>Rainstorm</td>\n",
       "    </tr>\n",
       "    <tr>\n",
       "      <th>3</th>\n",
       "      <td>US</td>\n",
       "      <td>Pineapple rind, lemon pith and orange blossom ...</td>\n",
       "      <td>Reserve Late Harvest</td>\n",
       "      <td>87</td>\n",
       "      <td>13.0</td>\n",
       "      <td>Michigan</td>\n",
       "      <td>Lake Michigan Shore</td>\n",
       "      <td>NaN</td>\n",
       "      <td>Alexander Peartree</td>\n",
       "      <td>NaN</td>\n",
       "      <td>St. Julian 2013 Reserve Late Harvest Riesling ...</td>\n",
       "      <td>Riesling</td>\n",
       "      <td>St. Julian</td>\n",
       "    </tr>\n",
       "    <tr>\n",
       "      <th>4</th>\n",
       "      <td>US</td>\n",
       "      <td>Much like the regular bottling from 2012, this...</td>\n",
       "      <td>Vintner's Reserve Wild Child Block</td>\n",
       "      <td>87</td>\n",
       "      <td>65.0</td>\n",
       "      <td>Oregon</td>\n",
       "      <td>Willamette Valley</td>\n",
       "      <td>Willamette Valley</td>\n",
       "      <td>Paul Gregutt</td>\n",
       "      <td>@paulgwine</td>\n",
       "      <td>Sweet Cheeks 2012 Vintner's Reserve Wild Child...</td>\n",
       "      <td>Pinot Noir</td>\n",
       "      <td>Sweet Cheeks</td>\n",
       "    </tr>\n",
       "  </tbody>\n",
       "</table>\n",
       "</div>"
      ],
      "text/plain": [
       "    country                                        description  \\\n",
       "0     Italy  Aromas include tropical fruit, broom, brimston...   \n",
       "1  Portugal  This is ripe and fruity, a wine that is smooth...   \n",
       "2        US  Tart and snappy, the flavors of lime flesh and...   \n",
       "3        US  Pineapple rind, lemon pith and orange blossom ...   \n",
       "4        US  Much like the regular bottling from 2012, this...   \n",
       "\n",
       "                          designation  points  price           province  \\\n",
       "0                        Vulkà Bianco      87    NaN  Sicily & Sardinia   \n",
       "1                            Avidagos      87   15.0              Douro   \n",
       "2                                 NaN      87   14.0             Oregon   \n",
       "3                Reserve Late Harvest      87   13.0           Michigan   \n",
       "4  Vintner's Reserve Wild Child Block      87   65.0             Oregon   \n",
       "\n",
       "              region_1           region_2         taster_name  \\\n",
       "0                 Etna                NaN       Kerin O’Keefe   \n",
       "1                  NaN                NaN          Roger Voss   \n",
       "2    Willamette Valley  Willamette Valley        Paul Gregutt   \n",
       "3  Lake Michigan Shore                NaN  Alexander Peartree   \n",
       "4    Willamette Valley  Willamette Valley        Paul Gregutt   \n",
       "\n",
       "  taster_twitter_handle                                              title  \\\n",
       "0          @kerinokeefe                  Nicosia 2013 Vulkà Bianco  (Etna)   \n",
       "1            @vossroger      Quinta dos Avidagos 2011 Avidagos Red (Douro)   \n",
       "2           @paulgwine       Rainstorm 2013 Pinot Gris (Willamette Valley)   \n",
       "3                   NaN  St. Julian 2013 Reserve Late Harvest Riesling ...   \n",
       "4           @paulgwine   Sweet Cheeks 2012 Vintner's Reserve Wild Child...   \n",
       "\n",
       "          variety               winery  \n",
       "0     White Blend              Nicosia  \n",
       "1  Portuguese Red  Quinta dos Avidagos  \n",
       "2      Pinot Gris            Rainstorm  \n",
       "3        Riesling           St. Julian  \n",
       "4      Pinot Noir         Sweet Cheeks  "
      ]
     },
     "execution_count": 2,
     "metadata": {},
     "output_type": "execute_result"
    }
   ],
   "source": [
    "reviews.head()"
   ]
  },
  {
   "cell_type": "markdown",
   "id": "b0edfd95",
   "metadata": {
    "papermill": {
     "duration": 0.003631,
     "end_time": "2025-07-09T15:10:12.957485",
     "exception": false,
     "start_time": "2025-07-09T15:10:12.953854",
     "status": "completed"
    },
    "tags": []
   },
   "source": [
    "## 1.\n",
    "`region_1` and `region_2` are pretty uninformative names for locale columns in the dataset. Create a copy of `reviews` with these columns renamed to `region` and `locale`, respectively."
   ]
  },
  {
   "cell_type": "code",
   "execution_count": 3,
   "id": "a3762068",
   "metadata": {
    "execution": {
     "iopub.execute_input": "2025-07-09T15:10:12.966401Z",
     "iopub.status.busy": "2025-07-09T15:10:12.966069Z",
     "iopub.status.idle": "2025-07-09T15:10:12.985201Z",
     "shell.execute_reply": "2025-07-09T15:10:12.984240Z"
    },
    "papermill": {
     "duration": 0.025351,
     "end_time": "2025-07-09T15:10:12.986732",
     "exception": false,
     "start_time": "2025-07-09T15:10:12.961381",
     "status": "completed"
    },
    "tags": []
   },
   "outputs": [
    {
     "data": {
      "application/javascript": [
       "parent.postMessage({\"jupyterEvent\": \"custom.exercise_interaction\", \"data\": {\"outcomeType\": 1, \"valueTowardsCompletion\": 0.25, \"interactionType\": 1, \"questionType\": 1, \"questionId\": \"1_RenameCols\", \"learnToolsVersion\": \"0.3.5\", \"failureMessage\": \"\", \"exceptionClass\": \"\", \"trace\": \"\"}}, \"*\")"
      ],
      "text/plain": [
       "<IPython.core.display.Javascript object>"
      ]
     },
     "metadata": {},
     "output_type": "display_data"
    },
    {
     "data": {
      "text/markdown": [
       "<span style=\"color:#33cc33\">Correct</span>"
      ],
      "text/plain": [
       "Correct"
      ]
     },
     "metadata": {},
     "output_type": "display_data"
    }
   ],
   "source": [
    "# Your code here\n",
    "renamed = reviews.rename(columns={'region_1':'region', 'region_2':'locale'})\n",
    "\n",
    "# Check your answer\n",
    "q1.check()"
   ]
  },
  {
   "cell_type": "code",
   "execution_count": 4,
   "id": "a9265f00",
   "metadata": {
    "execution": {
     "iopub.execute_input": "2025-07-09T15:10:12.996556Z",
     "iopub.status.busy": "2025-07-09T15:10:12.996132Z",
     "iopub.status.idle": "2025-07-09T15:10:13.000668Z",
     "shell.execute_reply": "2025-07-09T15:10:12.999631Z"
    },
    "papermill": {
     "duration": 0.011436,
     "end_time": "2025-07-09T15:10:13.002406",
     "exception": false,
     "start_time": "2025-07-09T15:10:12.990970",
     "status": "completed"
    },
    "tags": []
   },
   "outputs": [],
   "source": [
    "#q1.hint()\n",
    "#q1.solution()"
   ]
  },
  {
   "cell_type": "markdown",
   "id": "c7efbea8",
   "metadata": {
    "papermill": {
     "duration": 0.003977,
     "end_time": "2025-07-09T15:10:13.011580",
     "exception": false,
     "start_time": "2025-07-09T15:10:13.007603",
     "status": "completed"
    },
    "tags": []
   },
   "source": [
    "## 2.\n",
    "Set the index name in the dataset to `wines`."
   ]
  },
  {
   "cell_type": "code",
   "execution_count": 5,
   "id": "1b66eae3",
   "metadata": {
    "execution": {
     "iopub.execute_input": "2025-07-09T15:10:13.021887Z",
     "iopub.status.busy": "2025-07-09T15:10:13.021579Z",
     "iopub.status.idle": "2025-07-09T15:10:13.039694Z",
     "shell.execute_reply": "2025-07-09T15:10:13.038880Z"
    },
    "papermill": {
     "duration": 0.024809,
     "end_time": "2025-07-09T15:10:13.041107",
     "exception": false,
     "start_time": "2025-07-09T15:10:13.016298",
     "status": "completed"
    },
    "tags": []
   },
   "outputs": [
    {
     "data": {
      "application/javascript": [
       "parent.postMessage({\"jupyterEvent\": \"custom.exercise_interaction\", \"data\": {\"outcomeType\": 1, \"valueTowardsCompletion\": 0.25, \"interactionType\": 1, \"questionType\": 1, \"questionId\": \"2_RenameIndex\", \"learnToolsVersion\": \"0.3.5\", \"failureMessage\": \"\", \"exceptionClass\": \"\", \"trace\": \"\"}}, \"*\")"
      ],
      "text/plain": [
       "<IPython.core.display.Javascript object>"
      ]
     },
     "metadata": {},
     "output_type": "display_data"
    },
    {
     "data": {
      "text/markdown": [
       "<span style=\"color:#33cc33\">Correct</span>"
      ],
      "text/plain": [
       "Correct"
      ]
     },
     "metadata": {},
     "output_type": "display_data"
    }
   ],
   "source": [
    "reindexed = reviews.rename_axis('wines', axis = 0) #axis=0 is the index, which is the rowns\n",
    "\n",
    "# Check your answer\n",
    "q2.check()"
   ]
  },
  {
   "cell_type": "code",
   "execution_count": 6,
   "id": "8eb8c171",
   "metadata": {
    "execution": {
     "iopub.execute_input": "2025-07-09T15:10:13.051576Z",
     "iopub.status.busy": "2025-07-09T15:10:13.051321Z",
     "iopub.status.idle": "2025-07-09T15:10:13.055354Z",
     "shell.execute_reply": "2025-07-09T15:10:13.054337Z"
    },
    "papermill": {
     "duration": 0.011306,
     "end_time": "2025-07-09T15:10:13.056833",
     "exception": false,
     "start_time": "2025-07-09T15:10:13.045527",
     "status": "completed"
    },
    "tags": []
   },
   "outputs": [],
   "source": [
    "#q2.hint()\n",
    "#q2.solution()"
   ]
  },
  {
   "cell_type": "markdown",
   "id": "32160feb",
   "metadata": {
    "papermill": {
     "duration": 0.004166,
     "end_time": "2025-07-09T15:10:13.065930",
     "exception": false,
     "start_time": "2025-07-09T15:10:13.061764",
     "status": "completed"
    },
    "tags": []
   },
   "source": [
    "## 3.\n",
    "The [Things on Reddit](https://www.kaggle.com/residentmario/things-on-reddit/data) dataset includes product links from a selection of top-ranked forums (\"subreddits\") on reddit.com. Run the cell below to load a dataframe of products mentioned on the */r/gaming* subreddit and another dataframe for products mentioned on the *r//movies* subreddit."
   ]
  },
  {
   "cell_type": "code",
   "execution_count": 7,
   "id": "80678a10",
   "metadata": {
    "execution": {
     "iopub.execute_input": "2025-07-09T15:10:13.076175Z",
     "iopub.status.busy": "2025-07-09T15:10:13.075905Z",
     "iopub.status.idle": "2025-07-09T15:10:13.091837Z",
     "shell.execute_reply": "2025-07-09T15:10:13.090182Z"
    },
    "papermill": {
     "duration": 0.023705,
     "end_time": "2025-07-09T15:10:13.093875",
     "exception": false,
     "start_time": "2025-07-09T15:10:13.070170",
     "status": "completed"
    },
    "tags": []
   },
   "outputs": [],
   "source": [
    "gaming_products = pd.read_csv(\"../input/things-on-reddit/top-things/top-things/reddits/g/gaming.csv\")\n",
    "gaming_products['subreddit'] = \"r/gaming\"\n",
    "movie_products = pd.read_csv(\"../input/things-on-reddit/top-things/top-things/reddits/m/movies.csv\")\n",
    "movie_products['subreddit'] = \"r/movies\""
   ]
  },
  {
   "cell_type": "markdown",
   "id": "d37bf5eb",
   "metadata": {
    "papermill": {
     "duration": 0.005619,
     "end_time": "2025-07-09T15:10:13.104127",
     "exception": false,
     "start_time": "2025-07-09T15:10:13.098508",
     "status": "completed"
    },
    "tags": []
   },
   "source": [
    "Create a `DataFrame` of products mentioned on *either* subreddit."
   ]
  },
  {
   "cell_type": "code",
   "execution_count": 8,
   "id": "4ef4571a",
   "metadata": {
    "execution": {
     "iopub.execute_input": "2025-07-09T15:10:13.115974Z",
     "iopub.status.busy": "2025-07-09T15:10:13.115699Z",
     "iopub.status.idle": "2025-07-09T15:10:13.130992Z",
     "shell.execute_reply": "2025-07-09T15:10:13.128804Z"
    },
    "papermill": {
     "duration": 0.024372,
     "end_time": "2025-07-09T15:10:13.133314",
     "exception": false,
     "start_time": "2025-07-09T15:10:13.108942",
     "status": "completed"
    },
    "tags": []
   },
   "outputs": [
    {
     "data": {
      "application/javascript": [
       "parent.postMessage({\"jupyterEvent\": \"custom.exercise_interaction\", \"data\": {\"outcomeType\": 1, \"valueTowardsCompletion\": 0.25, \"interactionType\": 1, \"questionType\": 2, \"questionId\": \"3_ConcatReddit\", \"learnToolsVersion\": \"0.3.5\", \"failureMessage\": \"\", \"exceptionClass\": \"\", \"trace\": \"\"}}, \"*\")"
      ],
      "text/plain": [
       "<IPython.core.display.Javascript object>"
      ]
     },
     "metadata": {},
     "output_type": "display_data"
    },
    {
     "data": {
      "text/markdown": [
       "<span style=\"color:#33cc33\">Correct</span>"
      ],
      "text/plain": [
       "Correct"
      ]
     },
     "metadata": {},
     "output_type": "display_data"
    }
   ],
   "source": [
    "combined_products = pd.concat([gaming_products, movie_products]) #cannot concat using str\n",
    "\n",
    "# Check your answer\n",
    "q3.check()"
   ]
  },
  {
   "cell_type": "code",
   "execution_count": 9,
   "id": "d949cdbe",
   "metadata": {
    "execution": {
     "iopub.execute_input": "2025-07-09T15:10:13.145820Z",
     "iopub.status.busy": "2025-07-09T15:10:13.145528Z",
     "iopub.status.idle": "2025-07-09T15:10:13.150198Z",
     "shell.execute_reply": "2025-07-09T15:10:13.148656Z"
    },
    "papermill": {
     "duration": 0.013978,
     "end_time": "2025-07-09T15:10:13.152820",
     "exception": false,
     "start_time": "2025-07-09T15:10:13.138842",
     "status": "completed"
    },
    "tags": []
   },
   "outputs": [],
   "source": [
    "#q3.hint()\n",
    "#q3.solution()"
   ]
  },
  {
   "cell_type": "markdown",
   "id": "87c27fb2",
   "metadata": {
    "papermill": {
     "duration": 0.004354,
     "end_time": "2025-07-09T15:10:13.163584",
     "exception": false,
     "start_time": "2025-07-09T15:10:13.159230",
     "status": "completed"
    },
    "tags": []
   },
   "source": [
    "## 4.\n",
    "The [Powerlifting Database](https://www.kaggle.com/open-powerlifting/powerlifting-database) dataset on Kaggle includes one CSV table for powerlifting meets and a separate one for powerlifting competitors. Run the cell below to load these datasets into dataframes:"
   ]
  },
  {
   "cell_type": "code",
   "execution_count": 10,
   "id": "12328c52",
   "metadata": {
    "execution": {
     "iopub.execute_input": "2025-07-09T15:10:13.174387Z",
     "iopub.status.busy": "2025-07-09T15:10:13.174062Z",
     "iopub.status.idle": "2025-07-09T15:10:13.838364Z",
     "shell.execute_reply": "2025-07-09T15:10:13.837304Z"
    },
    "papermill": {
     "duration": 0.672156,
     "end_time": "2025-07-09T15:10:13.840093",
     "exception": false,
     "start_time": "2025-07-09T15:10:13.167937",
     "status": "completed"
    },
    "tags": []
   },
   "outputs": [],
   "source": [
    "powerlifting_meets = pd.read_csv(\"../input/powerlifting-database/meets.csv\")\n",
    "powerlifting_competitors = pd.read_csv(\"../input/powerlifting-database/openpowerlifting.csv\")"
   ]
  },
  {
   "cell_type": "markdown",
   "id": "750cb4e3",
   "metadata": {
    "papermill": {
     "duration": 0.004081,
     "end_time": "2025-07-09T15:10:13.848813",
     "exception": false,
     "start_time": "2025-07-09T15:10:13.844732",
     "status": "completed"
    },
    "tags": []
   },
   "source": [
    "Both tables include references to a `MeetID`, a unique key for each meet (competition) included in the database. Using this, generate a dataset combining the two tables into one."
   ]
  },
  {
   "cell_type": "code",
   "execution_count": 11,
   "id": "74f2fd98",
   "metadata": {
    "execution": {
     "iopub.execute_input": "2025-07-09T15:10:13.858407Z",
     "iopub.status.busy": "2025-07-09T15:10:13.858121Z",
     "iopub.status.idle": "2025-07-09T15:10:14.745710Z",
     "shell.execute_reply": "2025-07-09T15:10:14.744541Z"
    },
    "papermill": {
     "duration": 0.894393,
     "end_time": "2025-07-09T15:10:14.747484",
     "exception": false,
     "start_time": "2025-07-09T15:10:13.853091",
     "status": "completed"
    },
    "tags": []
   },
   "outputs": [
    {
     "name": "stderr",
     "output_type": "stream",
     "text": [
      "/usr/local/lib/python3.11/dist-packages/pandas/io/formats/format.py:1458: RuntimeWarning: invalid value encountered in greater\n",
      "  has_large_values = (abs_vals > 1e6).any()\n",
      "/usr/local/lib/python3.11/dist-packages/pandas/io/formats/format.py:1459: RuntimeWarning: invalid value encountered in less\n",
      "  has_small_values = ((abs_vals < 10 ** (-self.digits)) & (abs_vals > 0)).any()\n",
      "/usr/local/lib/python3.11/dist-packages/pandas/io/formats/format.py:1459: RuntimeWarning: invalid value encountered in greater\n",
      "  has_small_values = ((abs_vals < 10 ** (-self.digits)) & (abs_vals > 0)).any()\n"
     ]
    },
    {
     "name": "stdout",
     "output_type": "stream",
     "text": [
      "               MeetPath Federation        Date MeetCountry MeetState  \\\n",
      "MeetID                                                                 \n",
      "0        365strong/1601  365Strong  2016-10-29         USA        NC   \n",
      "0        365strong/1601  365Strong  2016-10-29         USA        NC   \n",
      "0        365strong/1601  365Strong  2016-10-29         USA        NC   \n",
      "0        365strong/1601  365Strong  2016-10-29         USA        NC   \n",
      "0        365strong/1601  365Strong  2016-10-29         USA        NC   \n",
      "...                 ...        ...         ...         ...       ...   \n",
      "8481    xpc/2017-finals        XPC  2017-03-03         USA        OH   \n",
      "8481    xpc/2017-finals        XPC  2017-03-03         USA        OH   \n",
      "8481    xpc/2017-finals        XPC  2017-03-03         USA        OH   \n",
      "8481    xpc/2017-finals        XPC  2017-03-03         USA        OH   \n",
      "8481    xpc/2017-finals        XPC  2017-03-03         USA        OH   \n",
      "\n",
      "         MeetTown                                           MeetName  \\\n",
      "MeetID                                                                 \n",
      "0       Charlotte  2016 Junior & Senior National Powerlifting Cha...   \n",
      "0       Charlotte  2016 Junior & Senior National Powerlifting Cha...   \n",
      "0       Charlotte  2016 Junior & Senior National Powerlifting Cha...   \n",
      "0       Charlotte  2016 Junior & Senior National Powerlifting Cha...   \n",
      "0       Charlotte  2016 Junior & Senior National Powerlifting Cha...   \n",
      "...           ...                                                ...   \n",
      "8481     Columbus                                    2017 XPC Finals   \n",
      "8481     Columbus                                    2017 XPC Finals   \n",
      "8481     Columbus                                    2017 XPC Finals   \n",
      "8481     Columbus                                    2017 XPC Finals   \n",
      "8481     Columbus                                    2017 XPC Finals   \n",
      "\n",
      "                    Name Sex   Equipment  ...  WeightClassKg Squat4Kg  \\\n",
      "MeetID                                    ...                           \n",
      "0       Angie Belk Terry   F       Wraps  ...             60      NaN   \n",
      "0            Dawn Bogart   F  Single-ply  ...             60      NaN   \n",
      "0            Dawn Bogart   F  Single-ply  ...             60      NaN   \n",
      "0            Dawn Bogart   F         Raw  ...             60      NaN   \n",
      "0           Destiny Dula   F         Raw  ...           67.5      NaN   \n",
      "...                  ...  ..         ...  ...            ...      ...   \n",
      "8481     William Barabas   M   Multi-ply  ...            125      NaN   \n",
      "8481        Justin Zottl   M   Multi-ply  ...            125      NaN   \n",
      "8481       Jake Anderson   M   Multi-ply  ...            125      NaN   \n",
      "8481      Jeff Bumanglag   M   Multi-ply  ...            140      NaN   \n",
      "8481       Shane Hammock   M   Multi-ply  ...            140      NaN   \n",
      "\n",
      "        BestSquatKg Bench4Kg  BestBenchKg  Deadlift4Kg  BestDeadliftKg  \\\n",
      "MeetID                                                                   \n",
      "0             47.63      NaN        20.41          NaN           70.31   \n",
      "0            142.88      NaN        95.25          NaN          163.29   \n",
      "0            142.88      NaN        95.25          NaN          163.29   \n",
      "0               NaN      NaN        95.25          NaN             NaN   \n",
      "0               NaN      NaN        31.75          NaN           90.72   \n",
      "...             ...      ...          ...          ...             ...   \n",
      "8481            NaN      NaN          NaN          NaN          347.50   \n",
      "8481            NaN      NaN          NaN          NaN          322.50   \n",
      "8481            NaN      NaN          NaN          NaN          367.50   \n",
      "8481            NaN      NaN          NaN          NaN          320.00   \n",
      "8481            NaN      NaN          NaN          NaN          362.50   \n",
      "\n",
      "        TotalKg  Place   Wilks  \n",
      "MeetID                          \n",
      "0        138.35      1  155.05  \n",
      "0        401.42      1  456.38  \n",
      "0        401.42      1  456.38  \n",
      "0         95.25      1  108.29  \n",
      "0        122.47      1  130.47  \n",
      "...         ...    ...     ...  \n",
      "8481     347.50      2  202.60  \n",
      "8481     322.50      3  185.77  \n",
      "8481     367.50      1  211.17  \n",
      "8481     320.00      3  181.85  \n",
      "8481     362.50      2  205.18  \n",
      "\n",
      "[386414 rows x 23 columns]\n"
     ]
    },
    {
     "data": {
      "application/javascript": [
       "parent.postMessage({\"jupyterEvent\": \"custom.exercise_interaction\", \"data\": {\"outcomeType\": 1, \"valueTowardsCompletion\": 0.25, \"interactionType\": 1, \"questionType\": 2, \"questionId\": \"4_JoinLifting\", \"learnToolsVersion\": \"0.3.5\", \"failureMessage\": \"\", \"exceptionClass\": \"\", \"trace\": \"\"}}, \"*\")"
      ],
      "text/plain": [
       "<IPython.core.display.Javascript object>"
      ]
     },
     "metadata": {},
     "output_type": "display_data"
    },
    {
     "data": {
      "text/markdown": [
       "<span style=\"color:#33cc33\">Correct</span>"
      ],
      "text/plain": [
       "Correct"
      ]
     },
     "metadata": {},
     "output_type": "display_data"
    }
   ],
   "source": [
    "#apply set_index() twice to avoid duplicate columns (MeetID - available in both datasets)\n",
    "powerlifting_combined = powerlifting_meets.set_index('MeetID').join(powerlifting_competitors.set_index(\n",
    "    'MeetID'), on = 'MeetID', lsuffix = '_meet', rsuffix = '_comp')\n",
    "\n",
    "# powerlifting_combined = pd.merge(powerlifting_meets, powerlifting_competitors, on = 'MeetID')\n",
    "print(powerlifting_combined)\n",
    "# Check your answer\n",
    "q4.check()"
   ]
  },
  {
   "cell_type": "code",
   "execution_count": 12,
   "id": "2bad1ced",
   "metadata": {
    "execution": {
     "iopub.execute_input": "2025-07-09T15:10:14.759394Z",
     "iopub.status.busy": "2025-07-09T15:10:14.758450Z",
     "iopub.status.idle": "2025-07-09T15:10:14.769163Z",
     "shell.execute_reply": "2025-07-09T15:10:14.768121Z"
    },
    "papermill": {
     "duration": 0.017978,
     "end_time": "2025-07-09T15:10:14.770579",
     "exception": false,
     "start_time": "2025-07-09T15:10:14.752601",
     "status": "completed"
    },
    "tags": []
   },
   "outputs": [
    {
     "data": {
      "application/javascript": [
       "parent.postMessage({\"jupyterEvent\": \"custom.exercise_interaction\", \"data\": {\"interactionType\": 2, \"questionType\": 2, \"questionId\": \"4_JoinLifting\", \"learnToolsVersion\": \"0.3.5\", \"valueTowardsCompletion\": 0.0, \"failureMessage\": \"\", \"exceptionClass\": \"\", \"trace\": \"\", \"outcomeType\": 4}}, \"*\")"
      ],
      "text/plain": [
       "<IPython.core.display.Javascript object>"
      ]
     },
     "metadata": {},
     "output_type": "display_data"
    },
    {
     "data": {
      "text/markdown": [
       "<span style=\"color:#3366cc\">Hint:</span> Use `pd.Dataframe.join()`."
      ],
      "text/plain": [
       "Hint: Use `pd.Dataframe.join()`."
      ]
     },
     "metadata": {},
     "output_type": "display_data"
    },
    {
     "data": {
      "application/javascript": [
       "parent.postMessage({\"jupyterEvent\": \"custom.exercise_interaction\", \"data\": {\"interactionType\": 3, \"questionType\": 2, \"questionId\": \"4_JoinLifting\", \"learnToolsVersion\": \"0.3.5\", \"valueTowardsCompletion\": 0.0, \"failureMessage\": \"\", \"exceptionClass\": \"\", \"trace\": \"\", \"outcomeType\": 4}}, \"*\")"
      ],
      "text/plain": [
       "<IPython.core.display.Javascript object>"
      ]
     },
     "metadata": {},
     "output_type": "display_data"
    },
    {
     "data": {
      "text/markdown": [
       "<span style=\"color:#33cc99\">Solution:</span> \n",
       "```python\n",
       "powerlifting_combined = powerlifting_meets.set_index(\"MeetID\").join(powerlifting_competitors.set_index(\"MeetID\"))\n",
       "```"
      ],
      "text/plain": [
       "Solution: \n",
       "```python\n",
       "powerlifting_combined = powerlifting_meets.set_index(\"MeetID\").join(powerlifting_competitors.set_index(\"MeetID\"))\n",
       "```"
      ]
     },
     "metadata": {},
     "output_type": "display_data"
    }
   ],
   "source": [
    "q4.hint()\n",
    "q4.solution()"
   ]
  },
  {
   "cell_type": "markdown",
   "id": "52d584eb",
   "metadata": {
    "papermill": {
     "duration": 0.004789,
     "end_time": "2025-07-09T15:10:14.780628",
     "exception": false,
     "start_time": "2025-07-09T15:10:14.775839",
     "status": "completed"
    },
    "tags": []
   },
   "source": [
    "# Congratulations!\n",
    "\n",
    "You've finished the Pandas micro-course.  Many data scientists feel efficiency with Pandas is the most useful and practical skill they have, because it allows you to progress quickly in any project you have.\n",
    "\n",
    "If you'd like to apply your new skills to examining geospatial data, you're encouraged to check out our **[Geospatial Analysis](https://www.kaggle.com/learn/geospatial-analysis)** micro-course.\n",
    "\n",
    "You can also take advantage of your Pandas skills by entering a **[Kaggle Competition](https://www.kaggle.com/competitions)** or by answering a question you find interesting using **[Kaggle Datasets](https://www.kaggle.com/datasets)**."
   ]
  },
  {
   "cell_type": "markdown",
   "id": "d0b9ca93",
   "metadata": {
    "papermill": {
     "duration": 0.00471,
     "end_time": "2025-07-09T15:10:14.790981",
     "exception": false,
     "start_time": "2025-07-09T15:10:14.786271",
     "status": "completed"
    },
    "tags": []
   },
   "source": [
    "---\n",
    "\n",
    "\n",
    "\n",
    "\n",
    "*Have questions or comments? Visit the [course discussion forum](https://www.kaggle.com/learn/pandas/discussion) to chat with other learners.*"
   ]
  }
 ],
 "metadata": {
  "kaggle": {
   "accelerator": "none",
   "dataSources": [
    {
     "datasetId": 655,
     "sourceId": 1252,
     "sourceType": "datasetVersion"
    },
    {
     "datasetId": 2321,
     "sourceId": 3919,
     "sourceType": "datasetVersion"
    },
    {
     "datasetId": 2894,
     "sourceId": 4877,
     "sourceType": "datasetVersion"
    },
    {
     "datasetId": 3491,
     "sourceId": 5624,
     "sourceType": "datasetVersion"
    },
    {
     "datasetId": 1442,
     "sourceId": 8172,
     "sourceType": "datasetVersion"
    },
    {
     "datasetId": 9366,
     "sourceId": 13206,
     "sourceType": "datasetVersion"
    },
    {
     "datasetId": 179555,
     "sourceId": 403916,
     "sourceType": "datasetVersion"
    },
    {
     "datasetId": 4549,
     "sourceId": 466349,
     "sourceType": "datasetVersion"
    },
    {
     "datasetId": 2478,
     "sourceId": 1151655,
     "sourceType": "datasetVersion"
    },
    {
     "datasetId": 10128,
     "sourceId": 5438389,
     "sourceType": "datasetVersion"
    }
   ],
   "isGpuEnabled": false,
   "isInternetEnabled": false,
   "language": "python",
   "sourceType": "notebook"
  },
  "kernelspec": {
   "display_name": "Python 3",
   "language": "python",
   "name": "python3"
  },
  "language_info": {
   "codemirror_mode": {
    "name": "ipython",
    "version": 3
   },
   "file_extension": ".py",
   "mimetype": "text/x-python",
   "name": "python",
   "nbconvert_exporter": "python",
   "pygments_lexer": "ipython3",
   "version": "3.11.13"
  },
  "papermill": {
   "default_parameters": {},
   "duration": 15.591452,
   "end_time": "2025-07-09T15:10:15.416351",
   "environment_variables": {},
   "exception": null,
   "input_path": "__notebook__.ipynb",
   "output_path": "__notebook__.ipynb",
   "parameters": {},
   "start_time": "2025-07-09T15:09:59.824899",
   "version": "2.6.0"
  }
 },
 "nbformat": 4,
 "nbformat_minor": 5
}
